{
 "cells": [
  {
   "cell_type": "code",
   "execution_count": null,
   "id": "92f5acfc",
   "metadata": {},
   "outputs": [],
   "source": [
    "import math\n",
    "class Calc:\n",
    "    def __init__(self):\n",
    "        self.n1 = 0\n",
    "        self.n2 = 0\n",
    "        self.res = 0\n",
    "\n",
    "    def add(self):\n",
    "        self.res=self.n1+self.n2\n",
    "    def sub(self):\n",
    "        if self.n1 > self.n2:\n",
    "            self.res = self.n1-self.n2\n",
    "        else:\n",
    "            self.res = self.n2-self.n1\n",
    "    def mul(self):\n",
    "        self.res=self.n1*self.n2\n",
    "    def div(self):\n",
    "        self.res=self.n1//self.n2\n",
    "    def log(self):\n",
    "        self.res=math.log(self.n1,self.n2)\n",
    "    def pow(self):\n",
    "        self.res = math.pow(self.n1,self.n2)\n",
    "#PL\n",
    "print(\"welcome to my Calculator\")\n",
    "\n",
    "ob = Calc()\n",
    "ob.n1 = int(input(\"enter a num\"))\n",
    "ob.n2 = int(input(\"enter second num\"))\n",
    "\n",
    "print(\"press 1 for add\",\"2 for sub\",\"3 for mul\",\"4 for div\",\"5 for log\",\"6 for pow\")\n",
    "\n",
    "choice = int(input(\"enter a choice:\"))\n",
    "\n",
    "if choice == 1:\n",
    "            ob.add()\n",
    "            print(ob.res)\n",
    "elif choice == 2:\n",
    "            ob.sub()\n",
    "            print(ob.res)\n",
    "elif choice == 3:\n",
    "            ob.mul()\n",
    "            print(ob.res)\n",
    "elif choice == 4:\n",
    "            ob.div()\n",
    "            print(ob.res)\n",
    "elif choice == 5:\n",
    "            ob.log()\n",
    "            print(ob.res)\n",
    "elif choice == 6:\n",
    "            ob.pow()\n",
    "            print(ob.res)\n",
    "else:\n",
    "            print(\"you have entered wrong choice\")"
   ]
  }
 ],
 "metadata": {
  "kernelspec": {
   "display_name": "Python 3 (ipykernel)",
   "language": "python",
   "name": "python3"
  },
  "language_info": {
   "codemirror_mode": {
    "name": "ipython",
    "version": 3
   },
   "file_extension": ".py",
   "mimetype": "text/x-python",
   "name": "python",
   "nbconvert_exporter": "python",
   "pygments_lexer": "ipython3",
   "version": "3.9.7"
  }
 },
 "nbformat": 4,
 "nbformat_minor": 5
}
